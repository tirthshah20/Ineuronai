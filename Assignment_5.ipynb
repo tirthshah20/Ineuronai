{
  "nbformat": 4,
  "nbformat_minor": 0,
  "metadata": {
    "colab": {
      "name": "Assignment_5.ipynb",
      "provenance": [],
      "collapsed_sections": []
    },
    "kernelspec": {
      "name": "python3",
      "display_name": "Python 3"
    }
  },
  "cells": [
    {
      "cell_type": "markdown",
      "metadata": {
        "id": "CV9cD8hdCtbV"
      },
      "source": [
        "1. **Write a function to compute 5/0 and use try/except to catch the exceptions**."
      ]
    },
    {
      "cell_type": "code",
      "metadata": {
        "id": "kQzx6nfWBGnw",
        "outputId": "62374ffc-64d6-48c9-c73b-aba20d1be244",
        "colab": {
          "base_uri": "https://localhost:8080/",
          "height": 34
        }
      },
      "source": [
        "def divide():\n",
        "    return 5/0\n",
        "\n",
        "try:\n",
        "    divide()\n",
        "except ZeroDivisionError as ze:\n",
        "    print(\"Why on earth you are dividing a number by ZERO!!\")\n",
        "except:\n",
        "    print(\"Any other exception\")"
      ],
      "execution_count": 1,
      "outputs": [
        {
          "output_type": "stream",
          "text": [
            "Why on earth you are dividing a number by ZERO!!\n"
          ],
          "name": "stdout"
        }
      ]
    },
    {
      "cell_type": "markdown",
      "metadata": {
        "id": "uI2HZuEyC2lt"
      },
      "source": [
        "2. Implement a Python program to generate all sentences where subject is in [\"Americans\", \"Indians\"] and verb is in [\"Play\", \"watch\"] and the object is in [\"Baseball\",\"cricket\"].\n",
        "\n",
        "        Hint: Subject,Verb and Object should be declared in the program as shown below.                \n",
        "        subjects=[\"Americans \",\"Indians\"]\n",
        "        verbs=[\"play\",\"watch\"]\n",
        "        objects=[\"Baseball\",\"Cricket\"]\n",
        "\n",
        "Exptected Output  :                       \n",
        "                   Americans play Baseball.\n",
        "                   Americans play Cricket.\n",
        "                   Americans watch Baseball.\n",
        "                   Americans watch Cricket.\n",
        "                   Indians play Baseball.\n",
        "                   Indians play Cricket.\n",
        "                   Indians watch Baseball.\n",
        "                   Indians watch Cricket."
      ]
    },
    {
      "cell_type": "code",
      "metadata": {
        "id": "fPvD0vF_C5sg",
        "outputId": "42f2b1db-18ce-4cfa-fada-c80f535c6efa",
        "colab": {
          "base_uri": "https://localhost:8080/",
          "height": 170
        }
      },
      "source": [
        "subject=[\"Americans\",\"Indians\"]\n",
        "verb=[\"play\",\"watch\"]\n",
        "objects=[\"Baseball\",\"Cricket\"]\n",
        "Syntax = [(Sub+' '+vrb+' '+Objct+\".\") for Sub in subject for vrb in verb for Objct in objects]\n",
        "print(\"Output:\")\n",
        "for syn in Syntax:    \n",
        "    print(syn)"
      ],
      "execution_count": 2,
      "outputs": [
        {
          "output_type": "stream",
          "text": [
            "Output:\n",
            "Americans play Baseball.\n",
            "Americans play Cricket.\n",
            "Americans watch Baseball.\n",
            "Americans watch Cricket.\n",
            "Indians play Baseball.\n",
            "Indians play Cricket.\n",
            "Indians watch Baseball.\n",
            "Indians watch Cricket.\n"
          ],
          "name": "stdout"
        }
      ]
    }
  ]
}