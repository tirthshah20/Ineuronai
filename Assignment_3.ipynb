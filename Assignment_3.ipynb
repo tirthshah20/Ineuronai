{
  "nbformat": 4,
  "nbformat_minor": 0,
  "metadata": {
    "colab": {
      "name": "Assignment_3.ipynb",
      "provenance": []
    },
    "kernelspec": {
      "name": "python3",
      "display_name": "Python 3"
    }
  },
  "cells": [
    {
      "cell_type": "markdown",
      "metadata": {
        "id": "uroPc9FG1FpH",
        "colab_type": "text"
      },
      "source": [
        "1.1 Write a Python Program to implement your own myreduce() function which works exactly\n",
        "like Python's built-in function reduce()"
      ]
    },
    {
      "cell_type": "code",
      "metadata": {
        "id": "r6PXJRWz0nE1",
        "colab_type": "code",
        "colab": {}
      },
      "source": [
        "def myreduce(anyfunc, sequence):\n",
        "  result = sequence[0]\n",
        "  for item in sequence[1:]:\n",
        "   result = anyfunc(result, item)\n",
        "  return result"
      ],
      "execution_count": 35,
      "outputs": []
    },
    {
      "cell_type": "code",
      "metadata": {
        "id": "_jQnCgmZ25Oc",
        "colab_type": "code",
        "colab": {}
      },
      "source": [
        "def sum(x,y): return x + y"
      ],
      "execution_count": 36,
      "outputs": []
    },
    {
      "cell_type": "code",
      "metadata": {
        "id": "UdxpSkav16Xu",
        "colab_type": "code",
        "colab": {
          "base_uri": "https://localhost:8080/",
          "height": 34
        },
        "outputId": "c9ab40b8-58f2-45d1-e397-4146bc490fdc"
      },
      "source": [
        "print ( str(myreduce(sum, [1,2,3])) )"
      ],
      "execution_count": 37,
      "outputs": [
        {
          "output_type": "stream",
          "text": [
            "6\n"
          ],
          "name": "stdout"
        }
      ]
    },
    {
      "cell_type": "markdown",
      "metadata": {
        "id": "8xcaC_2I2bOp",
        "colab_type": "text"
      },
      "source": [
        "1.2 Write a Python program to implement your own myfilter() function which works exactly\n",
        "like Python's built-in function filter()"
      ]
    },
    {
      "cell_type": "code",
      "metadata": {
        "id": "MgFI5dby19k-",
        "colab_type": "code",
        "colab": {}
      },
      "source": [
        "def myfilter(anyfunc, sequence):\n",
        " result = []\n",
        " for item in sequence:\n",
        "  if anyfunc(item):\n",
        "   result.append(item)\n",
        " return result\n"
      ],
      "execution_count": 38,
      "outputs": []
    },
    {
      "cell_type": "code",
      "metadata": {
        "id": "iePsWZK43BQX",
        "colab_type": "code",
        "colab": {}
      },
      "source": [
        "def ispositive(x):\n",
        " if (x <= 0): \n",
        "  return False \n",
        " else: \n",
        "  return True"
      ],
      "execution_count": 39,
      "outputs": []
    },
    {
      "cell_type": "code",
      "metadata": {
        "id": "nvLNBhJn2oEi",
        "colab_type": "code",
        "colab": {
          "base_uri": "https://localhost:8080/",
          "height": 34
        },
        "outputId": "a6763969-b735-40aa-e0a4-f33c1b376aa7"
      },
      "source": [
        "print (str(myfilter(ispositive, [0,1,-2,3,4,5])))"
      ],
      "execution_count": 40,
      "outputs": [
        {
          "output_type": "stream",
          "text": [
            "[1, 3, 4, 5]\n"
          ],
          "name": "stdout"
        }
      ]
    },
    {
      "cell_type": "markdown",
      "metadata": {
        "id": "ALPH4KsM3NSR",
        "colab_type": "text"
      },
      "source": [
        "2.Implement List comprehensions to produce the following lists.\n",
        "Write List comprehensions to produce the following Lists\n",
        " ['x', 'xx', 'xxx', 'xxxx', 'y', 'yy', 'yyy', 'yyyy', 'z', 'zz', 'zzz', 'zzzz'] ['x', 'y', 'z', 'xx', 'yy', 'zz', 'xx', 'yy', 'zz', 'xxxx', 'yyyy', 'zzzz'] [[2], [3], [4], [3], [4], [5], [4], [5], [6]] [[2, 3, 4, 5], [3, 4, 5, 6], [4, 5, 6, 7], [5, 6, 7, 8]] [(1, 1), (2, 1), (3, 1), (1, 2), (2, 2), (3, 2), (1, 3), (2, 3), (3, 3)]"
      ]
    },
    {
      "cell_type": "code",
      "metadata": {
        "id": "qWqQb1CIQ80n",
        "colab_type": "code",
        "colab": {
          "base_uri": "https://localhost:8080/",
          "height": 51
        },
        "outputId": "86bd6c28-74c2-49b8-8611-e0cb905217f7"
      },
      "source": [
        "#List1=['x', 'y', 'z', 'xx', 'yy', 'zz', 'xxx', 'yyy', 'zzz', 'xxxx', 'yyyy', 'zzzz']\n",
        "words1='xyz'\n",
        "list1=[]\n",
        "x=int(input(\"Enter the number\"))\n",
        "for n in range(1,x):\n",
        "  for word in words1:\n",
        "    i=word*n\n",
        "    list1.append(i)\n",
        "print(list1)"
      ],
      "execution_count": 41,
      "outputs": [
        {
          "output_type": "stream",
          "text": [
            "Enter the number5\n",
            "['x', 'y', 'z', 'xx', 'yy', 'zz', 'xxx', 'yyy', 'zzz', 'xxxx', 'yyyy', 'zzzz']\n"
          ],
          "name": "stdout"
        }
      ]
    },
    {
      "cell_type": "code",
      "metadata": {
        "id": "i-R5HkKCVpZu",
        "colab_type": "code",
        "colab": {
          "base_uri": "https://localhost:8080/",
          "height": 51
        },
        "outputId": "37628d18-2faa-477e-bea9-32c903e92c3a"
      },
      "source": [
        "#list2= ['x', 'xx', 'xxx', 'xxxx', 'y', 'yy', 'yyy', 'yyyy', 'z', 'zz', 'zzz', 'zzzz']\n",
        "words2='xyz'\n",
        "list2=[]\n",
        "x=int(input(\"Enter the number\"))\n",
        "for word in words2:\n",
        "  for n in range(1,x):\n",
        "    i=word*n\n",
        "    list2.append(i)  \n",
        "print(list2)    "
      ],
      "execution_count": 46,
      "outputs": [
        {
          "output_type": "stream",
          "text": [
            "Enter the number5\n",
            "['x', 'xx', 'xxx', 'xxxx', 'y', 'yy', 'yyy', 'yyyy', 'z', 'zz', 'zzz', 'zzzz']\n"
          ],
          "name": "stdout"
        }
      ]
    },
    {
      "cell_type": "code",
      "metadata": {
        "id": "aCgmBAE3Yvf2",
        "colab_type": "code",
        "colab": {
          "base_uri": "https://localhost:8080/",
          "height": 34
        },
        "outputId": "27836340-66b1-49d7-b8ae-a8c88ce853d1"
      },
      "source": [
        "#List3=[[2], [3], [4], [3], [4], [5], [4], [5], [6]] \n",
        "list3=[2,3,4]\n",
        "list33=[]\n",
        "for x in list3:\n",
        "  for n in range(0,3):\n",
        "    i=[x+n]\n",
        "    list33.append(i)\n",
        "print(list33)    \n"
      ],
      "execution_count": 43,
      "outputs": [
        {
          "output_type": "stream",
          "text": [
            "[[2], [3], [4], [3], [4], [5], [4], [5], [6]]\n"
          ],
          "name": "stdout"
        }
      ]
    },
    {
      "cell_type": "code",
      "metadata": {
        "id": "34Up_79RcMl_",
        "colab_type": "code",
        "colab": {
          "base_uri": "https://localhost:8080/",
          "height": 34
        },
        "outputId": "2ef0d6ce-aac4-447f-f9be-30118ecf4231"
      },
      "source": [
        "#List4=[[2, 3, 4, 5], [3, 4, 5, 6],[4, 5, 6, 7], [5, 6, 7, 8]]\n",
        "list4=[2,3,4,5]\n",
        "list4=[[x+n for n in range(0,4)] for x in list4 ]\n",
        "print(list4)\n"
      ],
      "execution_count": 44,
      "outputs": [
        {
          "output_type": "stream",
          "text": [
            "[[2, 3, 4, 5], [3, 4, 5, 6], [4, 5, 6, 7], [5, 6, 7, 8]]\n"
          ],
          "name": "stdout"
        }
      ]
    },
    {
      "cell_type": "code",
      "metadata": {
        "id": "ohoOGwEXihBM",
        "colab_type": "code",
        "colab": {
          "base_uri": "https://localhost:8080/",
          "height": 34
        },
        "outputId": "e5048423-4843-48b2-f2b1-d6854e55e948"
      },
      "source": [
        "#list5=[(1, 1), (2, 1), (3, 1), (1, 2), (2, 2), (3, 2), (1, 3), (2, 3), (3, 3)]\n",
        "list5=[1,2,3]\n",
        "list5=[(b,a) for a in list5 for b in list5]\n",
        "print(list5)"
      ],
      "execution_count": 45,
      "outputs": [
        {
          "output_type": "stream",
          "text": [
            "[(1, 1), (2, 1), (3, 1), (1, 2), (2, 2), (3, 2), (1, 3), (2, 3), (3, 3)]\n"
          ],
          "name": "stdout"
        }
      ]
    }
  ]
}