{
  "nbformat": 4,
  "nbformat_minor": 0,
  "metadata": {
    "colab": {
      "name": "Assignment_2.ipynb",
      "provenance": [],
      "collapsed_sections": []
    },
    "kernelspec": {
      "name": "python3",
      "display_name": "Python 3"
    }
  },
  "cells": [
    {
      "cell_type": "markdown",
      "metadata": {
        "id": "tPWYyku-2oim",
        "colab_type": "text"
      },
      "source": [
        "1.Create pattern using nested loop in python."
      ]
    },
    {
      "cell_type": "markdown",
      "metadata": {
        "id": "fIIIUaAM2fz5",
        "colab_type": "text"
      },
      "source": [
        ""
      ]
    },
    {
      "cell_type": "code",
      "metadata": {
        "id": "RbDtikLbAfwY",
        "colab_type": "code",
        "colab": {
          "base_uri": "https://localhost:8080/",
          "height": 187
        },
        "outputId": "8766ecba-35d3-4570-81e2-eeaeacbaa1f9"
      },
      "source": [
        "n=5\n",
        "for i in range(n):\n",
        "  for j in range(i):\n",
        "    print('* ', end=\"\")\n",
        "  print('')\n",
        "for i in range(n,0,-1):\n",
        "  for j in range(i):\n",
        "    print('* ',end=\"\")\n",
        "  print('')    "
      ],
      "execution_count": 26,
      "outputs": [
        {
          "output_type": "stream",
          "text": [
            "\n",
            "* \n",
            "* * \n",
            "* * * \n",
            "* * * * \n",
            "* * * * * \n",
            "* * * * \n",
            "* * * \n",
            "* * \n",
            "* \n"
          ],
          "name": "stdout"
        }
      ]
    },
    {
      "cell_type": "markdown",
      "metadata": {
        "id": "X7r9d4OaCi7M",
        "colab_type": "text"
      },
      "source": [
        "2.Write a Python program to reverse a word after accepting the input from the user. "
      ]
    },
    {
      "cell_type": "code",
      "metadata": {
        "id": "HcgQ6ZicCrX_",
        "colab_type": "code",
        "colab": {
          "base_uri": "https://localhost:8080/",
          "height": 51
        },
        "outputId": "cf6946dc-ec4c-444a-9bdb-39d24e4597f0"
      },
      "source": [
        "word= input(\"Enter the word you want to reverse:\")\n",
        "print(word[::-1])"
      ],
      "execution_count": 28,
      "outputs": [
        {
          "output_type": "stream",
          "text": [
            "Enter the word you want to reverse:ineuron\n",
            "norueni\n"
          ],
          "name": "stdout"
        }
      ]
    }
  ]
}