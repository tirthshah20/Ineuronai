{
  "nbformat": 4,
  "nbformat_minor": 0,
  "metadata": {
    "colab": {
      "name": "Assignment_4.ipynb",
      "provenance": []
    },
    "kernelspec": {
      "name": "python3",
      "display_name": "Python 3"
    }
  },
  "cells": [
    {
      "cell_type": "markdown",
      "metadata": {
        "id": "zZpyQqOTpZaZ",
        "colab_type": "text"
      },
      "source": [
        "1.1 Write a Python Program(with class concepts) to find the area of the triangle using the below\n",
        "formula.\n",
        "\n",
        "area = (s*(s-a)*(s-b)*(s-c)) ** 0.5\n",
        "\n",
        "Function to take the length of the sides of triangle from user should be defined in the parent\n",
        "class and function to calculate the area should be defined in subclass."
      ]
    },
    {
      "cell_type": "code",
      "metadata": {
        "id": "NGC2dfw0oVQ_",
        "colab_type": "code",
        "colab": {
          "base_uri": "https://localhost:8080/",
          "height": 85
        },
        "outputId": "4228ca21-e2b3-410f-d310-2f28130af952"
      },
      "source": [
        "class poly:\n",
        "    def __init__(self,a,b,c):\n",
        "        self.a = float(a)\n",
        "        self.b = float(b)\n",
        "        self.c = float(c)\n",
        "a= int(input(\"a=\"))\n",
        "b= int(input(\"b=\"))\n",
        "c= int(input(\"c=\"))\n",
        "\n",
        "class triangle(poly):\n",
        "    def __init__(self,a,b,c):\n",
        "        super().__init__(a,b,c)\n",
        "\n",
        "    def get_area(self):\n",
        "        s = (a + b + c) / 2\n",
        "        return (s*(s-a)*(s-b)*(s-c)) ** 0.5        \n",
        "\n",
        "t = triangle(a,b,c)\n",
        "print(\"area : {}\".format(t.get_area()))"
      ],
      "execution_count": 6,
      "outputs": [
        {
          "output_type": "stream",
          "text": [
            "a=4\n",
            "b=5\n",
            "c=6\n",
            "area : 9.921567416492215\n"
          ],
          "name": "stdout"
        }
      ]
    },
    {
      "cell_type": "markdown",
      "metadata": {
        "id": "1WWDhkfQ_z-7",
        "colab_type": "text"
      },
      "source": [
        "1.2 Write a function filter_long_words() that takes a list of words and an integer n and returns\n",
        "the list of words that are longer than n."
      ]
    },
    {
      "cell_type": "code",
      "metadata": {
        "id": "D3MsLgEJoljM",
        "colab_type": "code",
        "colab": {
          "base_uri": "https://localhost:8080/",
          "height": 68
        },
        "outputId": "09344b53-25ca-4ad9-986b-692198cc5cd9"
      },
      "source": [
        "a=int(input(\"Enter the number:\"))\n",
        "b=input(\"Enter the string:\")\n",
        "def filter_long_words(n,str):\n",
        "  len_wrd=[]\n",
        "  text=str.split(\" \")\n",
        "  for i in text:\n",
        "    if len(i)>n:\n",
        "      len_wrd.append(i)\n",
        "  return len_wrd\n",
        "print(filter_long_words(a,b))      "
      ],
      "execution_count": 3,
      "outputs": [
        {
          "output_type": "stream",
          "text": [
            "Enter the number:3\n",
            "Enter the string:Google Apple Microsoft TCS Infosys\n",
            "['Google', 'Apple', 'Microsoft', 'Infosys']\n"
          ],
          "name": "stdout"
        }
      ]
    },
    {
      "cell_type": "markdown",
      "metadata": {
        "id": "WL4YiEuBDuJy",
        "colab_type": "text"
      },
      "source": [
        "2.1 Write a Python program using function concept that maps list of words into a list of integers\n",
        "representing the lengths of the corresponding words."
      ]
    },
    {
      "cell_type": "code",
      "metadata": {
        "id": "uzL3qjZ0D07j",
        "colab_type": "code",
        "colab": {
          "base_uri": "https://localhost:8080/",
          "height": 34
        },
        "outputId": "0e2d7a20-a813-4a04-fca0-2dc6d4b0b2f7"
      },
      "source": [
        "list1=['ab','cde','fghi']\n",
        "def list_no_of_words(l_words):\n",
        "  list2=[]\n",
        "  for i in l_words:\n",
        "    list2.append(len(i))\n",
        "  return list2\n",
        "print(list_no_of_words(list1))    "
      ],
      "execution_count": 4,
      "outputs": [
        {
          "output_type": "stream",
          "text": [
            "[2, 3, 4]\n"
          ],
          "name": "stdout"
        }
      ]
    },
    {
      "cell_type": "code",
      "metadata": {
        "id": "l9L8g8fCGB5v",
        "colab_type": "code",
        "colab": {
          "base_uri": "https://localhost:8080/",
          "height": 34
        },
        "outputId": "deaf07d9-a1cc-40ee-d82a-44ac65e2a086"
      },
      "source": [
        "print(list_no_of_words(['i','am','a','boy']))"
      ],
      "execution_count": 5,
      "outputs": [
        {
          "output_type": "stream",
          "text": [
            "[1, 2, 1, 3]\n"
          ],
          "name": "stdout"
        }
      ]
    },
    {
      "cell_type": "markdown",
      "metadata": {
        "id": "ozqQDOaEGTQ4",
        "colab_type": "text"
      },
      "source": [
        "2.2 Write a Python function which takes a character (i.e. a string of length 1) and returns True if\n",
        "it is a vowel, False otherwise."
      ]
    },
    {
      "cell_type": "code",
      "metadata": {
        "id": "othSkZMWGNQ5",
        "colab_type": "code",
        "colab": {
          "base_uri": "https://localhost:8080/",
          "height": 51
        },
        "outputId": "baa31923-52a7-46d9-ff93-382b10361ac9"
      },
      "source": [
        "vowel='AaEeIiOoUu'\n",
        "a=input(\"Enter the character:\")\n",
        "def check_vowel(char):\n",
        "  for i in char:\n",
        "    if i in vowel:\n",
        "      return True\n",
        "    else:\n",
        "      return False \n",
        "print(check_vowel(a))       "
      ],
      "execution_count": 11,
      "outputs": [
        {
          "output_type": "stream",
          "text": [
            "Enter the character:B\n",
            "False\n"
          ],
          "name": "stdout"
        }
      ]
    },
    {
      "cell_type": "code",
      "metadata": {
        "id": "DMOiGaIHIJXY",
        "colab_type": "code",
        "colab": {
          "base_uri": "https://localhost:8080/",
          "height": 51
        },
        "outputId": "e881368c-2dae-448a-8403-29ca4765aaff"
      },
      "source": [
        "b=input(\"Enter the character:\")\n",
        "print(check_vowel(b))"
      ],
      "execution_count": 12,
      "outputs": [
        {
          "output_type": "stream",
          "text": [
            "Enter the character:a\n",
            "True\n"
          ],
          "name": "stdout"
        }
      ]
    }
  ]
}