{
  "nbformat": 4,
  "nbformat_minor": 0,
  "metadata": {
    "colab": {
      "name": "Assignment_1.ipynb",
      "provenance": [],
      "collapsed_sections": []
    },
    "kernelspec": {
      "name": "python3",
      "display_name": "Python 3"
    }
  },
  "cells": [
    {
      "cell_type": "markdown",
      "metadata": {
        "id": "WBkO-V2KhwAB",
        "colab_type": "text"
      },
      "source": [
        "1.Write a program which will find all such numbers which are divisible by 7 but are not a multiple of 5, between 2000 and 3200 (both included). The numbers obtained should be printed in a comma-separated sequence on a single line. "
      ]
    },
    {
      "cell_type": "code",
      "metadata": {
        "id": "ZqJtpvpqg0bN",
        "colab_type": "code",
        "colab": {
          "base_uri": "https://localhost:8080/",
          "height": 71
        },
        "outputId": "bdcf23b0-c759-40d0-8c35-6a63e26db2d7"
      },
      "source": [
        "mylist=[]\n",
        "for i in range(2000,3200):\n",
        "  if i>=2000 and i<=3200:\n",
        "    if i%7==0:\n",
        "      if i%5!=0:\n",
        "        mylist.append(str(i)) \n",
        "print(\"output\")\n",
        "print(','.join(mylist))           "
      ],
      "execution_count": 14,
      "outputs": [
        {
          "output_type": "stream",
          "text": [
            "output\n",
            "2002,2009,2016,2023,2037,2044,2051,2058,2072,2079,2086,2093,2107,2114,2121,2128,2142,2149,2156,2163,2177,2184,2191,2198,2212,2219,2226,2233,2247,2254,2261,2268,2282,2289,2296,2303,2317,2324,2331,2338,2352,2359,2366,2373,2387,2394,2401,2408,2422,2429,2436,2443,2457,2464,2471,2478,2492,2499,2506,2513,2527,2534,2541,2548,2562,2569,2576,2583,2597,2604,2611,2618,2632,2639,2646,2653,2667,2674,2681,2688,2702,2709,2716,2723,2737,2744,2751,2758,2772,2779,2786,2793,2807,2814,2821,2828,2842,2849,2856,2863,2877,2884,2891,2898,2912,2919,2926,2933,2947,2954,2961,2968,2982,2989,2996,3003,3017,3024,3031,3038,3052,3059,3066,3073,3087,3094,3101,3108,3122,3129,3136,3143,3157,3164,3171,3178,3192,3199\n"
          ],
          "name": "stdout"
        }
      ]
    },
    {
      "cell_type": "markdown",
      "metadata": {
        "id": "jcT_WOJMnxNJ",
        "colab_type": "text"
      },
      "source": [
        "2.Write a Python program to accept the user's first and last name and then getting them printed in the the reverse order with a space between first name and last name. \n"
      ]
    },
    {
      "cell_type": "code",
      "metadata": {
        "id": "V7T7ag6enYMs",
        "colab_type": "code",
        "colab": {
          "base_uri": "https://localhost:8080/",
          "height": 85
        },
        "outputId": "5f609b88-ac55-4a5d-8ce0-413a17a9e9ae"
      },
      "source": [
        "fname=input(\"Enter the first name:\")\n",
        "lname=input(\"Enter the last name:\")\n",
        "print(\"output\")\n",
        "print(\"Your name in reverse order is\",lname,\"\",fname)"
      ],
      "execution_count": 12,
      "outputs": [
        {
          "output_type": "stream",
          "text": [
            "Enter the first name:Tirth\n",
            "Enter the last name:Shah\n",
            "output\n",
            "Your name in reverse order is Shah  Tirth\n"
          ],
          "name": "stdout"
        }
      ]
    },
    {
      "cell_type": "markdown",
      "metadata": {
        "id": "AEyXaB3npaVa",
        "colab_type": "text"
      },
      "source": [
        "3.Write a Python program to find the volume of a sphere with diameter 12 cm. \n",
        "Formula: $V=4/3*π*r^3.$ \n"
      ]
    },
    {
      "cell_type": "code",
      "metadata": {
        "id": "EYJ2vbWZptec",
        "colab_type": "code",
        "colab": {
          "base_uri": "https://localhost:8080/",
          "height": 68
        },
        "outputId": "b7d09198-b9e3-44cf-b885-d16b3316b200"
      },
      "source": [
        "d=12\n",
        "r=d/2\n",
        "print(\"The value of radius is:\",r)\n",
        "pi=3.14\n",
        "V=(4/3)*pi*(r**3)\n",
        "print(\"output\")\n",
        "print(\"Volume of shpere is:\",V)"
      ],
      "execution_count": 15,
      "outputs": [
        {
          "output_type": "stream",
          "text": [
            "The value of radius is: 6.0\n",
            "output\n",
            "Volume of shpere is: 904.3199999999999\n"
          ],
          "name": "stdout"
        }
      ]
    }
  ]
}