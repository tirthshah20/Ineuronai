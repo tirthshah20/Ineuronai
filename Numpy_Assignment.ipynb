{
  "nbformat": 4,
  "nbformat_minor": 0,
  "metadata": {
    "colab": {
      "name": "Numpy Assignment.ipynb",
      "provenance": []
    },
    "kernelspec": {
      "name": "python3",
      "display_name": "Python 3"
    }
  },
  "cells": [
    {
      "cell_type": "markdown",
      "metadata": {
        "id": "Kfh-2teDouVq"
      },
      "source": [
        "1. Write a function so that the columns of the output matrix are powers of the input vector. \n",
        "The order of the powers is determined by the increasing boolean argument. Specifically, when  increasing is False, the i-th output column is the input vector raised element-wise to the power  of N - i - 1. \n"
      ]
    },
    {
      "cell_type": "code",
      "metadata": {
        "id": "fwJ_UtDGmT26"
      },
      "source": [
        "import numpy as np"
      ],
      "execution_count": 1,
      "outputs": []
    },
    {
      "cell_type": "code",
      "metadata": {
        "colab": {
          "base_uri": "https://localhost:8080/"
        },
        "id": "dKmMn0pPo3lb",
        "outputId": "8b710696-9db4-4ac6-d3ee-aa90796c7e52"
      },
      "source": [
        "def gen_vander_matrix(ipvector, n, increasing=False):\n",
        "    \n",
        "    if not increasing:\n",
        "        op_matx = np.array([x**(n-1-i) for x in ipvector for i in range(n)]).reshape(ipvector.size,n)\n",
        "    elif increasing:\n",
        "        op_matx = np.array([x**i for x in ipvector for i in range(n)]).reshape(ipvector.size,n)\n",
        "    \n",
        "    return op_matx\n",
        "\n",
        "print(\"------------OUTPUT-------------\\n\")\n",
        "\n",
        "inputvector = np.array([1,2,3,4,5])\n",
        "no_col_opmat = 3\n",
        "op_matx_dec_order = gen_vander_matrix(inputvector,no_col_opmat,False)\n",
        "op_matx_inc_order = gen_vander_matrix(inputvector,no_col_opmat,True)\n",
        "\n",
        "print(\"The input array is:\",inputvector,\"\\n\")\n",
        "print(\"Number of columns in output matrix should be:\",no_col_opmat,\"\\n\")\n",
        "print(\"Vander matrix of the input array in decreasing order of powers:\\n\\n\",op_matx_dec_order,\"\\n\")\n",
        "print(\"Vander matrix of the input array in increasing order of powers:\\n\\n\",op_matx_inc_order,\"\\n\")\n",
        "\n",
        "inputvector = np.array([1,2,4,6,8,10])\n",
        "no_col_opmat = 5\n",
        "op_matx_dec_order = gen_vander_matrix(inputvector,no_col_opmat,False)\n",
        "op_matx_inc_order = gen_vander_matrix(inputvector,no_col_opmat,True)\n",
        "\n",
        "print(\"---------------------------------------------------------------\\n\")\n",
        "print(\"The input array is:\",inputvector,\"\\n\")\n",
        "print(\"Number of columns in output matrix should be:\",no_col_opmat,\"\\n\")\n",
        "print(\"Vander matrix of the input array in decreasing order of powers:\\n\\n\",op_matx_dec_order,\"\\n\")\n",
        "print(\"Vander matrix of the input array in increasing order of powers:\\n\\n\",op_matx_inc_order,\"\\n\")"
      ],
      "execution_count": 2,
      "outputs": [
        {
          "output_type": "stream",
          "text": [
            "------------OUTPUT-------------\n",
            "\n",
            "The input array is: [1 2 3 4 5] \n",
            "\n",
            "Number of columns in output matrix should be: 3 \n",
            "\n",
            "Vander matrix of the input array in decreasing order of powers:\n",
            "\n",
            " [[ 1  1  1]\n",
            " [ 4  2  1]\n",
            " [ 9  3  1]\n",
            " [16  4  1]\n",
            " [25  5  1]] \n",
            "\n",
            "Vander matrix of the input array in increasing order of powers:\n",
            "\n",
            " [[ 1  1  1]\n",
            " [ 1  2  4]\n",
            " [ 1  3  9]\n",
            " [ 1  4 16]\n",
            " [ 1  5 25]] \n",
            "\n",
            "---------------------------------------------------------------\n",
            "\n",
            "The input array is: [ 1  2  4  6  8 10] \n",
            "\n",
            "Number of columns in output matrix should be: 5 \n",
            "\n",
            "Vander matrix of the input array in decreasing order of powers:\n",
            "\n",
            " [[    1     1     1     1     1]\n",
            " [   16     8     4     2     1]\n",
            " [  256    64    16     4     1]\n",
            " [ 1296   216    36     6     1]\n",
            " [ 4096   512    64     8     1]\n",
            " [10000  1000   100    10     1]] \n",
            "\n",
            "Vander matrix of the input array in increasing order of powers:\n",
            "\n",
            " [[    1     1     1     1     1]\n",
            " [    1     2     4     8    16]\n",
            " [    1     4    16    64   256]\n",
            " [    1     6    36   216  1296]\n",
            " [    1     8    64   512  4096]\n",
            " [    1    10   100  1000 10000]] \n",
            "\n"
          ],
          "name": "stdout"
        }
      ]
    },
    {
      "cell_type": "markdown",
      "metadata": {
        "id": "GXkODeSGq04T"
      },
      "source": [
        "Given a sequence of n values x1, x2, ..., xn and a window size k>0, the k-th moving average of  the given sequence is defined as follows: \n",
        "The moving average sequence has n-k+1 elements as shown below. \n",
        "The moving averages with k=4 of a ten-value sequence (n=10) is shown below \n",
        "i 1 2 3 4 5 6 7 8 9 10 \n",
        "===== == == == == == == == == == == \n",
        "Input 10 20 30 40 50 60 70 80 90 100  \n",
        "y1 25 = (10+20+30+40)/4 \n",
        "y2 35 = (20+30+40+50)/4 \n",
        "y3 45 = (30+40+50+60)/4 \n",
        "y4 55 = (40+50+60+70)/4 \n",
        "y5 65 = (50+60+70+80)/4 \n",
        "y6 75 = (60+70+80+90)/4 \n",
        "y7 85 = (70+80+90+100)/4 \n",
        "Thus, the moving average sequence has n-k+1=10-4+1=7 values.\n",
        "\n",
        "Write a function to find moving average in an array over a window:\n",
        "Test it over [3, 5, 7, 2, 8, 10, 11, 65, 72, 81, 99, 100, 150] and window of 3."
      ]
    },
    {
      "cell_type": "code",
      "metadata": {
        "colab": {
          "base_uri": "https://localhost:8080/"
        },
        "id": "KRua8hZ2qz3o",
        "outputId": "3d52441c-d563-4574-f225-a158867e2644"
      },
      "source": [
        "import numpy as np\n",
        "def moving_average(a, n=3) :\n",
        "    ret = np.cumsum(a, dtype=float)\n",
        "    ret[n:] = ret[n:] - ret[:-n]\n",
        "    return ret[n - 1:] / n\n",
        "a = [3, 5, 7, 2, 8, 10, 11, 65, 72, 81, 99, 100, 150]\n",
        "print(moving_average(a, n=3))"
      ],
      "execution_count": 3,
      "outputs": [
        {
          "output_type": "stream",
          "text": [
            "[  5.           4.66666667   5.66666667   6.66666667   9.66666667\n",
            "  28.66666667  49.33333333  72.66666667  84.          93.33333333\n",
            " 116.33333333]\n"
          ],
          "name": "stdout"
        }
      ]
    },
    {
      "cell_type": "code",
      "metadata": {
        "id": "sXXl8RZUsLnf"
      },
      "source": [
        ""
      ],
      "execution_count": null,
      "outputs": []
    }
  ]
}